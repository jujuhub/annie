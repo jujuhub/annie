{
 "metadata": {
  "name": "",
  "signature": "sha256:9cd03dbb4204a0bbbd1dde2c10e51caeb5fef49a47f0deb6c88c93c466393ae0"
 },
 "nbformat": 3,
 "nbformat_minor": 0,
 "worksheets": [
  {
   "cells": [
    {
     "cell_type": "code",
     "collapsed": false,
     "input": [
      "import numpy as np\n",
      "import matplotlib.pyplot as plt\n",
      "from scipy.optimize import curve_fit\n",
      "# import itertools\n",
      "\n",
      "# CONSTANTS\n",
      "N_HIST_BINS = 100\n",
      "E_CHARGE = 1.60217662E-19\n",
      "NEG_CHARGE = -0.5E-12 # -0.2E-12\n",
      "\n",
      "# FUNCTIONS / GAUSSIANS\n",
      "def gauss(x, mean, sd, n):\n",
      "    return (n/(np.sqrt(2*np.pi)*sd))*np.exp(-(x - mean)**2/(2*sd**2))\n",
      "\n",
      "def double_gauss(x, mean, sd, n):\n",
      "    return (gauss(x, popt_ped[0], popt_ped[1], popt_ped[2]) + \n",
      "            (n/(np.sqrt(2*np.pi)*sd))*np.exp(-(x - mean)**2/(2*sd**2)))\n",
      "\n",
      "# def triple_gauss(x, mean, sd, n):\n",
      "#     return (gauss(x, popt_ped[0], popt_ped[1], popt_ped[2]) + \n",
      "#             gauss(x, popt_1pe[0], popt_1pe[1], popt_ped[2]) + \n",
      "#             (n/(np.sqrt(2*np.pi)*sd))*np.exp(-(x - mean)**2/(2*sd**2)))\n",
      "\n",
      "# def triple_gauss(x, m1, sd1, n1, m2, sd2, n2, m3, sd3, n3):\n",
      "#     return ((n1/(np.sqrt(2*np.pi)*sd1))*np.exp(-(x - m1)**2/(2*sd1**2)) + \n",
      "#             (n2/(np.sqrt(2*np.pi)*sd2))*np.exp(-(x - m2)**2/(2*sd2**2)) + \n",
      "#             (n3/(np.sqrt(2*np.pi)*sd3))*np.exp(-(x - m3)**2/(2*sd3**2)))\n",
      "\n",
      "def gain_curve(volt, m, b):\n",
      "    return m*volt + b\n",
      "\n",
      "# def gain_curve(volt, a, m, b):\n",
      "#     return a*np.exp(m*volt) + b\n",
      "\n",
      "%matplotlib inline"
     ],
     "language": "python",
     "metadata": {},
     "outputs": [],
     "prompt_number": 13
    },
    {
     "cell_type": "code",
     "collapsed": false,
     "input": [
      "# LOAD DATA FILE\n",
      "with open('my_charges.txt') as f:\n",
      "    charge = np.loadtxt(f, dtype=float) # array type\n",
      "\n",
      "\n",
      "# SKIPPING VERY NEGATIVE CHARGE VALUES (EARLY PULSES)\n",
      "i = 0\n",
      "new_charge = []\n",
      "counter = 0\n",
      "\n",
      "while (i < len(charge)):\n",
      "    if (charge[i] < NEG_CHARGE):\n",
      "#        continue\n",
      "#          print(\"charge \" + str(i) + \" skipped: \" + str(charge[i]))\n",
      "        counter += 1\n",
      "    else:\n",
      "        new_charge.append(charge[i])\n",
      "    i+=1\n",
      "print(str(counter) + \" charges skipped\")\n",
      "new_charge = np.array(new_charge)"
     ],
     "language": "python",
     "metadata": {},
     "outputs": [
      {
       "output_type": "stream",
       "stream": "stdout",
       "text": [
        "2348 charges skipped\n"
       ]
      }
     ],
     "prompt_number": 36
    },
    {
     "cell_type": "code",
     "collapsed": false,
     "input": [
      "# FOR MULTIPLE FILE PARTS\n",
      "\n",
      "# with open('dgz_test/my_charges-1820V-00.txt') as f:\n",
      "#     charge0 = np.loadtxt(f, dtype=float)\n",
      "\n",
      "# with open('dgz_test/my_charges-1820V-01.txt') as f:\n",
      "#     charge1 = np.loadtxt(f, dtype=float)\n",
      "\n",
      "# with open('dgz_test/my_charges-1820V-02.txt') as f:\n",
      "#     charge2 = np.loadtxt(f, dtype=float)\n",
      "\n",
      "# with open('dgz_test/my_charges-1820V-03.txt') as f:\n",
      "#     charge3 = np.loadtxt(f, dtype=float)\n",
      "\n",
      "# with open('dgz_test/my_charges-1820V-04.txt') as f:\n",
      "#     charge4 = np.loadtxt(f, dtype=float)\n",
      "\n",
      "total_charge = []\n",
      "for q in itertools.chain(charge0, charge1, charge2, charge3, charge4):\n",
      "    total_charge.append(q)\n",
      "\n",
      "total_charge = np.array(total_charge)\n",
      "# print(len(charge0)+len(charge1)+len(charge2)+len(charge3)+len(charge4))\n",
      "# print(len(total_charge))\n",
      "\n",
      "i = 0\n",
      "counter = 0\n",
      "new_charge = []\n",
      "\n",
      "while (i < len(total_charge)):\n",
      "    if (total_charge[i] < NEG_CHARGE):\n",
      "#        continue\n",
      "        counter += 1\n",
      "#         print(\"charge \" + str(counter) + \" skipped: \" + str(total_charge[i]))\n",
      "    else:\n",
      "        new_charge.append(total_charge[i])\n",
      "    i+=1\n",
      "\n",
      "new_charge = np.array(new_charge)"
     ],
     "language": "python",
     "metadata": {},
     "outputs": []
    },
    {
     "cell_type": "code",
     "collapsed": false,
     "input": [
      "BIN_START = 0\n",
      "BIN_END_PT = 9\n",
      "DELTA = 0\n",
      "EXTRA = 12 # len(new_charge) - BIN_START - BIN_END_PT - DELTA\n",
      "\n",
      "\n",
      "### plotting \n",
      "fig = plt.figure(figsize=(12,8)) # this makes it show the histogram\n",
      "ax1 = fig.add_subplot(111)\n",
      "plt.yscale('log', nonposy='clip')\n",
      "plt.xlabel('charge (C)', fontsize=13)\n",
      "plt.ylabel('count', fontsize=13)\n",
      "# plt.xlim(-4.E-11, 5E-11)\n",
      "\n",
      "ydata, bins, patches = ax1.hist(new_charge, bins=N_HIST_BINS, facecolor='orange')\n",
      "\n",
      "bins = 1E12*bins\n",
      "bin_centers = np.array(bins[:-1]+(bins[1]-bins[0])/2.0)\n",
      "\n",
      "# find indices without relying on hard-coding\n",
      "ped_index = 0\n",
      "for i in range(ydata.size):\n",
      "    if (ydata[i] == max(ydata)):\n",
      "        ped_index = i\n",
      "print(max(ydata), ped_index)\n",
      "\n",
      "# plot curves\n",
      "plt.plot(bin_centers[BIN_START:BIN_END_PT]*1E-12, ydata[BIN_START:BIN_END_PT], lw='2', marker='o')\n",
      "plt.plot(bin_centers[BIN_END_PT+DELTA:BIN_END_PT+DELTA+EXTRA]*1E-12, \n",
      "        ydata[BIN_END_PT+DELTA:BIN_END_PT+DELTA+EXTRA], lw='2', marker='o')\n",
      "# plt.savefig('Q_dist_5_files_1820V-xscale.png')"
     ],
     "language": "python",
     "metadata": {},
     "outputs": [
      {
       "output_type": "stream",
       "stream": "stdout",
       "text": [
        "(3132.0, 2)\n"
       ]
      },
      {
       "metadata": {},
       "output_type": "pyout",
       "prompt_number": 37,
       "text": [
        "[<matplotlib.lines.Line2D at 0x7fd72d8a2750>]"
       ]
      },
      {
       "metadata": {},
       "output_type": "display_data",
       "png": "[encoded data removed]",
       "text": [
        "<matplotlib.figure.Figure at 0x7fd72d997850>"
       ]
      }
     ],
     "prompt_number": 37
    },
    {
     "cell_type": "code",
     "collapsed": false,
     "input": [
      "# BIN UNCERTAINTIES USING SQRT OF N\n",
      "\n",
      "\n",
      "# bins = 1E12*bins\n",
      "# bin_centers = np.array(bins[:-1]+(bins[1]-bins[0])/2.0)\n",
      "\n",
      "uncert_data = []\n",
      "for i in range(ydata.size):\n",
      "    uncert_data.append(np.sqrt(ydata[i]))\n",
      "    if uncert_data[i] == 0:\n",
      "        uncert_data[i] = 1"
     ],
     "language": "python",
     "metadata": {},
     "outputs": [],
     "prompt_number": 32
    },
    {
     "cell_type": "code",
     "collapsed": false,
     "input": [
      "# DIGITIZER\n",
      "popt, pcov = curve_fit(gauss, bin_centers[BIN_END_PT+DELTA:BIN_END_PT+DELTA+4], \n",
      "                       ydata[BIN_END_PT+DELTA:BIN_END_PT+DELTA+4], p0=[0.5, 1, 100], \n",
      "                       sigma=uncert_data[BIN_END_PT+DELTA:BIN_END_PT+DELTA+4])\n",
      "print(popt)"
     ],
     "language": "python",
     "metadata": {},
     "outputs": [
      {
       "output_type": "stream",
       "stream": "stdout",
       "text": [
        "[   0.5    1.   100. ]\n"
       ]
      }
     ],
     "prompt_number": 26
    },
    {
     "cell_type": "code",
     "collapsed": false,
     "input": [
      "# FIT PEDESTAL; p0=[mean, sd, normalization const]\n",
      "popt_ped, pcov_ped = curve_fit(gauss, bin_centers[BIN_START:BIN_END_PT],\n",
      "                               ydata[BIN_START:BIN_END_PT], p0=[0, 0.5, 2500], \n",
      "                               sigma=uncert_data[BIN_START:BIN_END_PT])\n",
      "# FIT 1PE PEAK SEPARATELY\n",
      "popt_1pe, pcov_1pe = curve_fit(gauss, bin_centers[BIN_END_PT+DELTA:BIN_END_PT+DELTA+EXTRA],\n",
      "                               ydata[BIN_END_PT+DELTA:BIN_END_PT+DELTA+EXTRA], p0=[1.5, 1, 350],\n",
      "                               sigma=uncert_data[BIN_END_PT+DELTA:BIN_END_PT+DELTA+EXTRA])\n",
      "# FIT 1PE PEAK W/ PEDESTAL\n",
      "popt_spe, pcov_spe = curve_fit(double_gauss, bin_centers, ydata, p0=[1.5, 2, 300],\n",
      "                             sigma=uncert_data)\n",
      "\n",
      "# popt_dbg, pcov_spe = curve_fit(db_gauss, bin_centers, ydata, \n",
      "#                                p0=[popt_ped[0], popt_ped[1], popt_ped[2], popt_1pe[0], \n",
      "#                                    popt_1pe[1], popt_1pe[2]], sigma=uncert_data)\n",
      "\n",
      "# FIT 2PE PEAK W/ PEDESTAL & 1PE PEAK\n",
      "# popt_2pe, pcov_2pe = curve_fit(triple_gauss, bin_centers, ydata, p0=[3, 2, 150], \n",
      "#                               sigma=uncert_data)\n",
      "\n",
      "# popt_trg, pcov_trg = curve_fit(triple_gauss, bin_centers, ydata, \n",
      "#                                p0=[popt_ped[0], popt_ped[1], popt_ped[2], popt_1pe[0], \n",
      "#                                    popt_1pe[1], popt_1pe[2], 3.0, 1, 200], sigma=uncert_data)\n",
      "\n",
      "#FIT 2PE PEAK SEPARATELY\n",
      "# popt_2pe, pcov_2pe = curve_fit(gauss, bin_centers[BIN_END_PT+DELTA+EXTRA:],\n",
      "#                                ydata[BIN_END_PT+DELTA+EXTRA:], p0=[1.75, 2, 175],\n",
      "#                                sigma=uncert_data[BIN_END_PT+DELTA+EXTRA:])\n",
      "\n",
      "\n",
      "print(popt_ped)\n",
      "# print(popt_spe)\n",
      "print(popt_1pe)\n",
      "# print(popt_dbg)\n",
      "# print(popt_trg)"
     ],
     "language": "python",
     "metadata": {},
     "outputs": [
      {
       "output_type": "stream",
       "stream": "stdout",
       "text": [
        "[ -1.78085281e-01   3.02722834e-01   2.22284063e+03]\n",
        "[   0.93743025    0.75111485  455.11648913]\n"
       ]
      }
     ],
     "prompt_number": 33
    },
    {
     "cell_type": "code",
     "collapsed": false,
     "input": [
      "ped_fit = gauss(bin_centers, *popt_ped)\n",
      "pe_fit = gauss(bin_centers, *popt_1pe)\n",
      "db_fit = double_gauss(bin_centers, *popt_spe)\n",
      "# db_fit2 = db_gauss(bin_centers, *popt_dbg)\n",
      "# tr_fit = triple_gauss(bin_centers, *popt_trg)\n",
      "\n",
      "bin_centers = bin_centers*1E-12\n",
      "\n",
      "print(\"double gauss: \" + str((popt_spe[0]-popt_ped[0])*1E-12/E_CHARGE))\n",
      "print(\"separate fit: \" + str((popt_1pe[0]-popt_ped[0])*1E-12/E_CHARGE))\n",
      "# print(\"triple gauss: \" + str((popt_trg[6]-popt_trg[3])*1E-12/E_CHARGE))\n",
      "# print((popt_trg[3]-popt_trg[0])*1E-12/E_CHARGE)"
     ],
     "language": "python",
     "metadata": {},
     "outputs": [
      {
       "output_type": "stream",
       "stream": "stdout",
       "text": [
        "double gauss: 8449365.71895\n",
        "separate fit: 6962500.40249\n"
       ]
      }
     ],
     "prompt_number": 34
    },
    {
     "cell_type": "code",
     "collapsed": false,
     "input": [
      "plt.figure(figsize=(12,8))\n",
      "# plt.title('WB PMT #001\\n', fontsize=17)\n",
      "plt.xlabel('charge (C)', fontsize=15)\n",
      "plt.ylabel('count', fontsize=15)\n",
      "# plt.yscale('log')\n",
      "\n",
      "plt.hist(new_charge, bins=N_HIST_BINS)\n",
      "plt.plot(bin_centers, ped_fit, label='Pedestal', lw='2')\n",
      "plt.plot(bin_centers, pe_fit, label='1PE', lw='2')\n",
      "# plt.plot(bin_centers, db_fit2, label='Double Gauss', lw='2')\n",
      "# plt.plot(bin_centers, tr_fit, label='Triple Gauss', lw='2')\n",
      "plt.plot(popt_spe[0]*1E-12, 875, label='DF Mean', marker='o')\n",
      "plt.plot(popt_1pe[0]*1E-12, 875, label='SF Mean', marker='o')\n",
      "# plt.plot(popt_trg[6]*1E-12, 875, label='TF Mean', marker='o')\n",
      "\n",
      "\n",
      "# plt.xlim(-0.25e-11, 1.0e-11)\n",
      "plt.legend(loc=0)\n",
      "# plt.savefig(\"WB030.png\")"
     ],
     "language": "python",
     "metadata": {},
     "outputs": [
      {
       "metadata": {},
       "output_type": "pyout",
       "prompt_number": 35,
       "text": [
        "<matplotlib.legend.Legend at 0x7fd72d957450>"
       ]
      },
      {
       "metadata": {},
       "output_type": "display_data",
       "png": "[encoded data removed]",
       "text": [
        "<matplotlib.figure.Figure at 0x7fd72e966810>"
       ]
      }
     ],
     "prompt_number": 35
    },
    {
     "cell_type": "code",
     "collapsed": false,
     "input": [
      "# FWHM\n",
      "fwhm = 2.*np.sqrt(2*np.log(2))*popt_1pe[1]\n",
      "print(fwhm)"
     ],
     "language": "python",
     "metadata": {},
     "outputs": [
      {
       "output_type": "stream",
       "stream": "stdout",
       "text": [
        "1.74866155435\n"
       ]
      }
     ],
     "prompt_number": 56
    },
    {
     "cell_type": "code",
     "collapsed": false,
     "input": [
      "np.ln(2)"
     ],
     "language": "python",
     "metadata": {},
     "outputs": [
      {
       "ename": "AttributeError",
       "evalue": "'module' object has no attribute 'ln'",
       "output_type": "pyerr",
       "traceback": [
        "\u001b[0;31m---------------------------------------------------------------------------\u001b[0m\n\u001b[0;31mAttributeError\u001b[0m                            Traceback (most recent call last)",
        "\u001b[0;32m<ipython-input-47-ee9f155cb999>\u001b[0m in \u001b[0;36m<module>\u001b[0;34m()\u001b[0m\n\u001b[0;32m----> 1\u001b[0;31m \u001b[0mnp\u001b[0m\u001b[0;34m.\u001b[0m\u001b[0mln\u001b[0m\u001b[0;34m(\u001b[0m\u001b[0;36m2\u001b[0m\u001b[0;34m)\u001b[0m\u001b[0;34m\u001b[0m\u001b[0m\n\u001b[0m",
        "\u001b[0;31mAttributeError\u001b[0m: 'module' object has no attribute 'ln'"
       ]
      }
     ],
     "prompt_number": 47
    },
    {
     "cell_type": "heading",
     "level": 5,
     "metadata": {},
     "source": [
      "Peak-to-Valley Ratio"
     ]
    },
    {
     "cell_type": "code",
     "collapsed": false,
     "input": [
      "# PEAK-TO-VALLEY RATIO\n",
      "\n",
      "ped_i = 0\n",
      "spe_i = 0\n",
      "spe_peak = max(ydata[BIN_END_PT:BIN_END_PT+EXTRA])\n",
      "print(\"PE peak: \" + str(spe_peak))\n",
      "\n",
      "for i in range(ydata.size):\n",
      "    if (ydata[i] == max(ydata)):\n",
      "        ped_i = i\n",
      "        print(ped_i)\n",
      "    elif (ydata[i] == spe_peak):\n",
      "        spe_i = i\n",
      "        print(spe_i)\n",
      "\n",
      "valley = min(ydata[ped_i:spe_i])\n",
      "print(\"Valley: \" + str(valley))\n",
      "\n",
      "p2v = spe_peak/valley\n",
      "print(p2v)"
     ],
     "language": "python",
     "metadata": {},
     "outputs": [
      {
       "output_type": "stream",
       "stream": "stdout",
       "text": [
        "PE peak: 1038.0\n",
        "65\n",
        "67\n",
        "71\n",
        "Valley: 719.0\n",
        "1.44367176634\n"
       ]
      }
     ],
     "prompt_number": 34
    },
    {
     "cell_type": "code",
     "collapsed": false,
     "input": [
      "# GAIN UNCERTAINTY\n",
      "uncert_gain = gain/np.sqrt(popt_1pe[2]) # using single fit; not sure if this is correct\n",
      "\n",
      "\n",
      "##########################\n",
      "# CHI SQ\n",
      "chi_sq = 0 # individual fit\n",
      "counter = 0\n",
      "\n",
      "# for pedestal portion\n",
      "for i in range(ydata[:BIN_END_PT].size):\n",
      "    chi_sq += (ydata[i] - ped_fit[i])**2/(uncert_data[i]**2)\n",
      "    counter+=1\n",
      "print(chi_sq)\n",
      "\n",
      "# for the rest of the data\n",
      "for i in range(ydata[BIN_END_PT:].size):\n",
      "    chi_sq += (ydata[BIN_END_PT+i] - pe_fit[BIN_END_PT+i])**2/(uncert_data[BIN_END_PT+i]**2)\n",
      "    counter+=1\n",
      "print(chi_sq)\n",
      "\n",
      "# for i in range(ydata.size):\n",
      "#     chi_sq += (ydata[i] - db_fit[i])**2/(uncert_data[i]**2)\n",
      "#     counter+=1\n",
      "# print(chi_sq)\n",
      "\n",
      "print(counter)\n",
      "print((BIN_END_PT-BIN_START) + (EXTRA-DELTA))\n",
      "red_chi_sq = chi_sq/((BIN_END_PT-BIN_START) + (EXTRA-DELTA) - 6) # why subtract 6? 6 parameters\n",
      "# red_chi_sq = chi_sq/(len(bin_centers) - 6)\n",
      "\n",
      "\n",
      "##########################\n",
      "# STATS\n",
      "print(\"gain: \" + str(gain) + \" +/- \" + str(uncert_gain))\n",
      "print(\"pedestal mean: \" + str(popt_ped[0]))\n",
      "print(\"pedestal std dev: \" + str(popt_ped[1]))\n",
      "print(\"pedestal norm const: \" + str(popt_ped[2]))\n",
      "print(\"p.e. mean: \" + str(popt_1pe[0]))\n",
      "print(\"p.e. std dev: \" + str(popt_1pe[1]))\n",
      "print(\"p.e. norm const: \" + str(popt_1pe[2]))\n",
      "print(\"chi sq: \" + str(chi_sq))\n",
      "print(\"reduced chi sq: \" + str(red_chi_sq))\n",
      "print(\"p.e. mean (double fit): \" + str(popt_spe[0]))\n",
      "print(\"gain (double fit): \" + str(gain2))\n",
      "\n",
      "\n",
      "# WRITE TO FILE\n",
      "f2 = open(\"WB045_stats.txt\", 'w')\n",
      "f2.write(\"WB PMT #045\" + \"\\n\")\n",
      "f2.write(\"operating voltage: 1444 V\" + \"\\n\")\n",
      "f2.write(\"gain: \" + str(gain) + \" +/- \" + str(uncert_gain) + \"\\n\")\n",
      "f2.write(\"pedestal mean: \" + str(popt_ped[0]) + \"\\n\")\n",
      "f2.write(\"pedestal std dev: \" + str(popt_ped[1]) + \"\\n\")\n",
      "f2.write(\"pedestal norm const: \" + str(popt_ped[2]) + \"\\n\")\n",
      "f2.write(\"p.e. mean: \" + str(popt_1pe[0]) + \"\\n\")\n",
      "f2.write(\"p.e. std dev: \" + str(popt_1pe[1]) + \"\\n\")\n",
      "f2.write(\"p.e. norm const: \" + str(popt_1pe[2]) + \"\\n\")\n",
      "f2.write(\"chi sq: \" + str(chi_sq) + \"\\n\")\n",
      "f2.write(\"reduced chi sq: \" + str(red_chi_sq) + \"\\n\\n\")\n",
      "f2.write(\"p.e. mean (double fit): \" + str(popt_spe[0]) + \"\\n\")\n",
      "f2.write(\"gain (double fit): \" + str(gain2))\n",
      "f2.close()"
     ],
     "language": "python",
     "metadata": {},
     "outputs": [
      {
       "output_type": "stream",
       "stream": "stdout",
       "text": [
        "112.922795443\n",
        "2484.44055892\n",
        "100\n",
        "29\n",
        "gain: 10396735.3309 +/- 285275.843274\n",
        "pedestal mean: -0.0324043071326\n",
        "pedestal std dev: 0.233047355299\n",
        "pedestal norm const: 1423.85053641\n",
        "p.e. mean: 1.63333632002\n",
        "p.e. std dev: 0.703544636113\n",
        "p.e. norm const: 1328.20154466\n",
        "chi sq: 2484.44055892\n",
        "reduced chi sq: 108.019154736\n",
        "p.e. mean (double fit): 1.89827154376\n",
        "gain (double fit): 12050330.9485\n"
       ]
      }
     ],
     "prompt_number": 33
    },
    {
     "cell_type": "markdown",
     "metadata": {},
     "source": [
      "_________________________________________________________________________________________________"
     ]
    },
    {
     "cell_type": "markdown",
     "metadata": {},
     "source": [
      "_________________________________________________________________________________________________"
     ]
    },
    {
     "cell_type": "markdown",
     "metadata": {},
     "source": [
      "_________________________________________________________________________________________________"
     ]
    },
    {
     "cell_type": "code",
     "collapsed": false,
     "input": [
      "# print(ydata)\n",
      "# print(bins)\n",
      "\n",
      "# es igual\n",
      "# ydata2, bins2, patches2 = plt.hist(new_charge, bins=N_HIST_BINS, \n",
      "#                                     facecolor='orange')\n",
      "\n",
      "# testing to see if bin edges were in order; they are\n",
      "j=0\n",
      "while (j < (len(bins))):\n",
      "    if (bins[j-1] > bins[j]):\n",
      "        print(\"oh no!\")\n",
      "    j+=1"
     ],
     "language": "python",
     "metadata": {},
     "outputs": []
    },
    {
     "cell_type": "markdown",
     "metadata": {},
     "source": [
      "-------------------------------------------------------------------------------------------------"
     ]
    },
    {
     "cell_type": "code",
     "collapsed": false,
     "input": [
      "plt.figure(figsize=(10,8))\n",
      "plt.yscale('log')\n",
      "plt.xlabel(\"pulse height (V)\")\n",
      "plt.ylabel(\"log(count)\")\n",
      "plt.title(\"1425V, 3mV/div\")\n",
      "pulse_ht, pulse_bin, ppatches = plt.hist(pulse_heights, bins=N_HIST_BINS, facecolor='orange')\n",
      "# plt.savefig(\"pulseHt_3mV_log.png\")"
     ],
     "language": "python",
     "metadata": {},
     "outputs": [
      {
       "metadata": {},
       "output_type": "display_data",
       "png": "[encoded data removed]",
       "text": [
        "<matplotlib.figure.Figure at 0x7effd16a7a10>"
       ]
      }
     ],
     "prompt_number": 39
    },
    {
     "cell_type": "heading",
     "level": 3,
     "metadata": {},
     "source": [
      "Dark noise"
     ]
    },
    {
     "cell_type": "code",
     "collapsed": false,
     "input": [
      "30807/20"
     ],
     "language": "python",
     "metadata": {},
     "outputs": [
      {
       "metadata": {},
       "output_type": "pyout",
       "prompt_number": 133,
       "text": [
        "1540"
       ]
      }
     ],
     "prompt_number": 133
    },
    {
     "cell_type": "heading",
     "level": 3,
     "metadata": {},
     "source": [
      "Gain curve"
     ]
    },
    {
     "cell_type": "code",
     "collapsed": false,
     "input": [
      "voltages = np.array([1330, 1370])\n",
      "gain = np.array([0.83E7, 1.2E7])"
     ],
     "language": "python",
     "metadata": {},
     "outputs": [],
     "prompt_number": 35
    },
    {
     "cell_type": "code",
     "collapsed": false,
     "input": [
      "popt_gain, pcov_gain = curve_fit(gain_curve, voltages, np.log10(gain))\n",
      "print(popt_gain)\n",
      "\n",
      "x = np.arange(1000, 1600, 1)\n",
      "gain_fit = gain_curve(x, *popt_gain) # log of the gain\n",
      "# print(gain_fit)\n",
      "\n",
      "plt.figure(figsize=(10,6))\n",
      "plt.title('Gain Curve', fontsize=15)\n",
      "plt.plot(x, gain_fit, label='fit')\n",
      "plt.plot(voltages, np.log10(gain), marker='o', lw=0, label='data')\n",
      "plt.plot(np.array([1000, 1600]), np.array([np.log10(1e7), np.log10(1e7)]), 'k-', label='g = 1E7')\n",
      "plt.xlabel('voltage (V)')\n",
      "plt.ylabel('log(gain)')\n",
      "# plt.yscale('log')\n",
      "plt.legend(loc='best')\n",
      "# plt.savefig(\"gainCurve.png\")\n",
      "\n",
      "(7.0 - popt_gain[1])/popt_gain[0]"
     ],
     "language": "python",
     "metadata": {},
     "outputs": [
      {
       "output_type": "stream",
       "stream": "stdout",
       "text": [
        "[ 0.00400258  1.59564823]\n"
       ]
      },
      {
       "output_type": "stream",
       "stream": "stderr",
       "text": [
        "/usr/lib/python2.7/dist-packages/scipy/optimize/minpack.py:690: OptimizeWarning: Covariance of the parameters could not be estimated\n",
        "  category=OptimizeWarning)\n"
       ]
      },
      {
       "metadata": {},
       "output_type": "pyout",
       "prompt_number": 37,
       "text": [
        "1350.2174425095802"
       ]
      },
      {
       "metadata": {},
       "output_type": "display_data",
       "png": "[encoded data removed]",
       "text": [
        "<matplotlib.figure.Figure at 0x7fde0b9622d0>"
       ]
      }
     ],
     "prompt_number": 37
    },
    {
     "cell_type": "code",
     "collapsed": false,
     "input": [],
     "language": "python",
     "metadata": {},
     "outputs": []
    }
   ],
   "metadata": {}
  }
 ]
}