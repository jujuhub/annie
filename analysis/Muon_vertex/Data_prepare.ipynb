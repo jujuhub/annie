{
 "cells": [
  {
   "cell_type": "code",
   "execution_count": 1,
   "metadata": {},
   "outputs": [],
   "source": [
    "import pandas as pd\n",
    "import json"
   ]
  },
  {
   "cell_type": "markdown",
   "metadata": {},
   "source": [
    "# Prepare data into pandas DataFrame"
   ]
  },
  {
   "cell_type": "code",
   "execution_count": 3,
   "metadata": {},
   "outputs": [],
   "source": [
    "dataX = pd.read_csv(\"/Users/juhe/annie/analysis/Muon_vertex/X.txt\",sep=',',header=None,names=['id','ai','eta'])   #ai is track segment\n",
    "dataY = pd.read_csv(\"/Users/juhe/annie/analysis/Muon_vertex/Y.txt\",sep=',',header=None,names=['id','truetracklen'])\n",
    "# dataX['combine'] = dataX[['X','Y']].values.tolist()"
   ]
  },
  {
   "cell_type": "markdown",
   "metadata": {},
   "source": [
    "### Preview dataframes"
   ]
  },
  {
   "cell_type": "code",
   "execution_count": 4,
   "metadata": {},
   "outputs": [
    {
     "data": {
      "text/html": [
       "<div>\n",
       "<style scoped>\n",
       "    .dataframe tbody tr th:only-of-type {\n",
       "        vertical-align: middle;\n",
       "    }\n",
       "\n",
       "    .dataframe tbody tr th {\n",
       "        vertical-align: top;\n",
       "    }\n",
       "\n",
       "    .dataframe thead th {\n",
       "        text-align: right;\n",
       "    }\n",
       "</style>\n",
       "<table border=\"1\" class=\"dataframe\">\n",
       "  <thead>\n",
       "    <tr style=\"text-align: right;\">\n",
       "      <th></th>\n",
       "      <th>id</th>\n",
       "      <th>ai</th>\n",
       "      <th>eta</th>\n",
       "    </tr>\n",
       "  </thead>\n",
       "  <tbody>\n",
       "    <tr>\n",
       "      <th>0</th>\n",
       "      <td>p0_66</td>\n",
       "      <td>70</td>\n",
       "      <td>1847.96</td>\n",
       "    </tr>\n",
       "    <tr>\n",
       "      <th>1</th>\n",
       "      <td>p0_66</td>\n",
       "      <td>100</td>\n",
       "      <td>1125.22</td>\n",
       "    </tr>\n",
       "    <tr>\n",
       "      <th>2</th>\n",
       "      <td>p0_66</td>\n",
       "      <td>115</td>\n",
       "      <td>1636.88</td>\n",
       "    </tr>\n",
       "    <tr>\n",
       "      <th>3</th>\n",
       "      <td>p0_66</td>\n",
       "      <td>130</td>\n",
       "      <td>1500.98</td>\n",
       "    </tr>\n",
       "    <tr>\n",
       "      <th>4</th>\n",
       "      <td>p0_66</td>\n",
       "      <td>145</td>\n",
       "      <td>2160.90</td>\n",
       "    </tr>\n",
       "  </tbody>\n",
       "</table>\n",
       "</div>"
      ],
      "text/plain": [
       "      id   ai      eta\n",
       "0  p0_66   70  1847.96\n",
       "1  p0_66  100  1125.22\n",
       "2  p0_66  115  1636.88\n",
       "3  p0_66  130  1500.98\n",
       "4  p0_66  145  2160.90"
      ]
     },
     "execution_count": 4,
     "metadata": {},
     "output_type": "execute_result"
    }
   ],
   "source": [
    "dataX.head(5)"
   ]
  },
  {
   "cell_type": "code",
   "execution_count": 5,
   "metadata": {},
   "outputs": [
    {
     "data": {
      "text/html": [
       "<div>\n",
       "<style scoped>\n",
       "    .dataframe tbody tr th:only-of-type {\n",
       "        vertical-align: middle;\n",
       "    }\n",
       "\n",
       "    .dataframe tbody tr th {\n",
       "        vertical-align: top;\n",
       "    }\n",
       "\n",
       "    .dataframe thead th {\n",
       "        text-align: right;\n",
       "    }\n",
       "</style>\n",
       "<table border=\"1\" class=\"dataframe\">\n",
       "  <thead>\n",
       "    <tr style=\"text-align: right;\">\n",
       "      <th></th>\n",
       "      <th>id</th>\n",
       "      <th>truetracklen</th>\n",
       "    </tr>\n",
       "  </thead>\n",
       "  <tbody>\n",
       "    <tr>\n",
       "      <th>0</th>\n",
       "      <td>p0_66</td>\n",
       "      <td>147.972</td>\n",
       "    </tr>\n",
       "    <tr>\n",
       "      <th>1</th>\n",
       "      <td>p10_36</td>\n",
       "      <td>140.964</td>\n",
       "    </tr>\n",
       "    <tr>\n",
       "      <th>2</th>\n",
       "      <td>p11_70</td>\n",
       "      <td>149.619</td>\n",
       "    </tr>\n",
       "    <tr>\n",
       "      <th>3</th>\n",
       "      <td>p11_98</td>\n",
       "      <td>107.023</td>\n",
       "    </tr>\n",
       "    <tr>\n",
       "      <th>4</th>\n",
       "      <td>p11_99</td>\n",
       "      <td>115.164</td>\n",
       "    </tr>\n",
       "  </tbody>\n",
       "</table>\n",
       "</div>"
      ],
      "text/plain": [
       "       id  truetracklen\n",
       "0   p0_66       147.972\n",
       "1  p10_36       140.964\n",
       "2  p11_70       149.619\n",
       "3  p11_98       107.023\n",
       "4  p11_99       115.164"
      ]
     },
     "execution_count": 5,
     "metadata": {},
     "output_type": "execute_result"
    }
   ],
   "source": [
    "dataY.head(5)"
   ]
  },
  {
   "cell_type": "markdown",
   "metadata": {},
   "source": [
    "# Aggregate data and filter out extremely long and negative tracks"
   ]
  },
  {
   "cell_type": "code",
   "execution_count": 8,
   "metadata": {},
   "outputs": [
    {
     "name": "stdout",
     "output_type": "stream",
     "text": [
      "after merge: 1208\n",
      "after first filter (>1000): 1208\n",
      "after second filter (<0): 1208\n",
      "Index(['id', 'ai', 'eta', 'truetracklen'], dtype='object')\n"
     ]
    },
    {
     "data": {
      "text/html": [
       "<div>\n",
       "<style scoped>\n",
       "    .dataframe tbody tr th:only-of-type {\n",
       "        vertical-align: middle;\n",
       "    }\n",
       "\n",
       "    .dataframe tbody tr th {\n",
       "        vertical-align: top;\n",
       "    }\n",
       "\n",
       "    .dataframe thead th {\n",
       "        text-align: right;\n",
       "    }\n",
       "</style>\n",
       "<table border=\"1\" class=\"dataframe\">\n",
       "  <thead>\n",
       "    <tr style=\"text-align: right;\">\n",
       "      <th></th>\n",
       "      <th>id</th>\n",
       "      <th>ai</th>\n",
       "      <th>eta</th>\n",
       "      <th>truetracklen</th>\n",
       "    </tr>\n",
       "  </thead>\n",
       "  <tbody>\n",
       "    <tr>\n",
       "      <th>0</th>\n",
       "      <td>p0_66</td>\n",
       "      <td>[70, 100, 115, 130, 145, 160, 175, 190, 205, 2...</td>\n",
       "      <td>[1847.96, 1125.22, 1636.88, 1500.98, 2160.9, 1...</td>\n",
       "      <td>147.972</td>\n",
       "    </tr>\n",
       "    <tr>\n",
       "      <th>1</th>\n",
       "      <td>p100_11</td>\n",
       "      <td>[70, 100, 115, 130, 145, 175, 205, 220, 235, 2...</td>\n",
       "      <td>[3902.38, 1059.4, 3823.62, 1585.48, 3049.67, 1...</td>\n",
       "      <td>188.655</td>\n",
       "    </tr>\n",
       "    <tr>\n",
       "      <th>2</th>\n",
       "      <td>p102_48</td>\n",
       "      <td>[70, 100, 115, 130, 145, 160, 175, 190, 205, 2...</td>\n",
       "      <td>[921.235, 1818.78, 1769.22, 1853.33, 2079.88, ...</td>\n",
       "      <td>176.992</td>\n",
       "    </tr>\n",
       "    <tr>\n",
       "      <th>3</th>\n",
       "      <td>p104_61</td>\n",
       "      <td>[70, 100, 115, 130, 145, 160, 175, 190, 205, 2...</td>\n",
       "      <td>[2840.03, 1991.47, 2949.01, 1859.28, 2389.12, ...</td>\n",
       "      <td>303.262</td>\n",
       "    </tr>\n",
       "    <tr>\n",
       "      <th>4</th>\n",
       "      <td>p104_97</td>\n",
       "      <td>[55, 70, 85, 100, 115, 130, 160, 175, 190, 205...</td>\n",
       "      <td>[2915.57, 2026.21, 1047.48, 109.152, 93.3911, ...</td>\n",
       "      <td>125.716</td>\n",
       "    </tr>\n",
       "    <tr>\n",
       "      <th>5</th>\n",
       "      <td>p105_27</td>\n",
       "      <td>[85, 100, 115, 130, 160, 175, 190, 205, 220, 2...</td>\n",
       "      <td>[2115.08, 2067.82, 2211.92, 1224.23, 2039.75, ...</td>\n",
       "      <td>198.096</td>\n",
       "    </tr>\n",
       "    <tr>\n",
       "      <th>6</th>\n",
       "      <td>p105_95</td>\n",
       "      <td>[55, 70, 85, 100, 115, 130, 145, 160, 175, 190...</td>\n",
       "      <td>[224.153, 1407.89, 349.068, 715.264, 914.84, 1...</td>\n",
       "      <td>169.878</td>\n",
       "    </tr>\n",
       "    <tr>\n",
       "      <th>7</th>\n",
       "      <td>p107_86</td>\n",
       "      <td>[70, 100, 115, 130, 145, 160, 175, 190, 205, 2...</td>\n",
       "      <td>[1540.36, 3624.93, 1649.12, 1064.04, 1902.7, 1...</td>\n",
       "      <td>261.106</td>\n",
       "    </tr>\n",
       "    <tr>\n",
       "      <th>8</th>\n",
       "      <td>p108_34</td>\n",
       "      <td>[55, 100, 115, 130, 145, 160, 175, 190, 205, 2...</td>\n",
       "      <td>[182.155, 420.979, 1550.46, 249.058, 284.543, ...</td>\n",
       "      <td>110.681</td>\n",
       "    </tr>\n",
       "    <tr>\n",
       "      <th>9</th>\n",
       "      <td>p108_35</td>\n",
       "      <td>[55, 85, 100, 115, 130, 160, 175, 190, 205, 22...</td>\n",
       "      <td>[360.44, 959.187, 1267.47, 498.475, 612.76, 12...</td>\n",
       "      <td>151.580</td>\n",
       "    </tr>\n",
       "  </tbody>\n",
       "</table>\n",
       "</div>"
      ],
      "text/plain": [
       "        id                                                 ai  \\\n",
       "0    p0_66  [70, 100, 115, 130, 145, 160, 175, 190, 205, 2...   \n",
       "1  p100_11  [70, 100, 115, 130, 145, 175, 205, 220, 235, 2...   \n",
       "2  p102_48  [70, 100, 115, 130, 145, 160, 175, 190, 205, 2...   \n",
       "3  p104_61  [70, 100, 115, 130, 145, 160, 175, 190, 205, 2...   \n",
       "4  p104_97  [55, 70, 85, 100, 115, 130, 160, 175, 190, 205...   \n",
       "5  p105_27  [85, 100, 115, 130, 160, 175, 190, 205, 220, 2...   \n",
       "6  p105_95  [55, 70, 85, 100, 115, 130, 145, 160, 175, 190...   \n",
       "7  p107_86  [70, 100, 115, 130, 145, 160, 175, 190, 205, 2...   \n",
       "8  p108_34  [55, 100, 115, 130, 145, 160, 175, 190, 205, 2...   \n",
       "9  p108_35  [55, 85, 100, 115, 130, 160, 175, 190, 205, 22...   \n",
       "\n",
       "                                                 eta  truetracklen  \n",
       "0  [1847.96, 1125.22, 1636.88, 1500.98, 2160.9, 1...       147.972  \n",
       "1  [3902.38, 1059.4, 3823.62, 1585.48, 3049.67, 1...       188.655  \n",
       "2  [921.235, 1818.78, 1769.22, 1853.33, 2079.88, ...       176.992  \n",
       "3  [2840.03, 1991.47, 2949.01, 1859.28, 2389.12, ...       303.262  \n",
       "4  [2915.57, 2026.21, 1047.48, 109.152, 93.3911, ...       125.716  \n",
       "5  [2115.08, 2067.82, 2211.92, 1224.23, 2039.75, ...       198.096  \n",
       "6  [224.153, 1407.89, 349.068, 715.264, 914.84, 1...       169.878  \n",
       "7  [1540.36, 3624.93, 1649.12, 1064.04, 1902.7, 1...       261.106  \n",
       "8  [182.155, 420.979, 1550.46, 249.058, 284.543, ...       110.681  \n",
       "9  [360.44, 959.187, 1267.47, 498.475, 612.76, 12...       151.580  "
      ]
     },
     "execution_count": 8,
     "metadata": {},
     "output_type": "execute_result"
    }
   ],
   "source": [
    "grouped = dataX.groupby('id').agg(list).reset_index()\n",
    "data = pd.merge(grouped, dataY, on='id')\n",
    "print(\"after merge: \" + str(len(data)))\n",
    "criteria = data['truetracklen'] > 1000\n",
    "data = data[~criteria]\n",
    "print(\"after first filter (>1000): \" + str(len(data)))\n",
    "critiera = data['truetracklen'] < 0\n",
    "data = data[~criteria]\n",
    "print(\"after second filter (<0): \" + str(len(data)))\n",
    "print(data.columns)\n",
    "data.head(10)"
   ]
  },
  {
   "cell_type": "markdown",
   "metadata": {},
   "source": [
    "# Prepare data into json format"
   ]
  },
  {
   "cell_type": "code",
   "execution_count": 10,
   "metadata": {},
   "outputs": [],
   "source": [
    "json_data = data.to_json(orient='index')\n"
   ]
  },
  {
   "cell_type": "markdown",
   "metadata": {},
   "source": [
    "# Save json data into .json file"
   ]
  },
  {
   "cell_type": "code",
   "execution_count": 11,
   "metadata": {},
   "outputs": [],
   "source": [
    "file_path = 'data.json'\n",
    "with open(file_path, 'w') as json_file:\n",
    "    json_file.write(json_data)\n"
   ]
  },
  {
   "cell_type": "markdown",
   "metadata": {},
   "source": [
    "# Save pandas DataFrame as csv file"
   ]
  },
  {
   "cell_type": "code",
   "execution_count": 12,
   "metadata": {},
   "outputs": [],
   "source": [
    "data.to_csv('data.csv', index=False)"
   ]
  },
  {
   "cell_type": "markdown",
   "metadata": {},
   "source": [
    "# Save data into h5 file << USE THIS ONE"
   ]
  },
  {
   "cell_type": "code",
   "execution_count": 9,
   "metadata": {},
   "outputs": [
    {
     "name": "stderr",
     "output_type": "stream",
     "text": [
      "/usr/local/lib/python3.7/site-packages/pandas/core/generic.py:2620: PerformanceWarning: \n",
      "your performance may suffer as PyTables will pickle object types that it cannot\n",
      "map directly to c-types [inferred_type->mixed,key->block1_values] [items->Index(['id', 'ai', 'eta'], dtype='object')]\n",
      "\n",
      "  encoding=encoding,\n"
     ]
    }
   ],
   "source": [
    "data.to_hdf(\"data.h5\",key='df')"
   ]
  },
  {
   "cell_type": "code",
   "execution_count": null,
   "metadata": {},
   "outputs": [],
   "source": []
  }
 ],
 "metadata": {
  "kernelspec": {
   "display_name": "Python 3",
   "language": "python",
   "name": "python3"
  },
  "language_info": {
   "codemirror_mode": {
    "name": "ipython",
    "version": 3
   },
   "file_extension": ".py",
   "mimetype": "text/x-python",
   "name": "python",
   "nbconvert_exporter": "python",
   "pygments_lexer": "ipython3",
   "version": "3.7.4"
  },
  "vscode": {
   "interpreter": {
    "hash": "10df95a0161c41431acfab44ba6b5d6dbed0bbd45d2380fc1187a92055355e3d"
   }
  }
 },
 "nbformat": 4,
 "nbformat_minor": 2
}
