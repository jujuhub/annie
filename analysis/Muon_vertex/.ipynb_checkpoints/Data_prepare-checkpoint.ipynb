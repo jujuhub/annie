{
 "cells": [
  {
   "cell_type": "code",
   "execution_count": 48,
   "metadata": {},
   "outputs": [],
   "source": [
    "import pandas as pd\n",
    "import json"
   ]
  },
  {
   "cell_type": "markdown",
   "metadata": {},
   "source": [
    "# Prepare data into pandas DataFrame"
   ]
  },
  {
   "cell_type": "code",
   "execution_count": 49,
   "metadata": {},
   "outputs": [],
   "source": [
    "dataX = pd.read_csv(\"X.txt\",sep=',',header=None,names=['id','X','Y'])\n",
    "dataY = pd.read_csv(\"Y.txt\",sep=',',header=None,names=['id','vertex'])\n",
    "# dataX['combine'] = dataX[['X','Y']].values.tolist()\n",
    "\n",
    "grouped = dataX.groupby('id').agg(list).reset_index()\n",
    "data = pd.merge(grouped, dataY, on='id')\n",
    "criteria = data['vertex'] > 1000\n",
    "data = data[~criteria]"
   ]
  },
  {
   "cell_type": "markdown",
   "metadata": {},
   "source": [
    "# Prepare data into json format"
   ]
  },
  {
   "cell_type": "code",
   "execution_count": 50,
   "metadata": {},
   "outputs": [],
   "source": [
    "json_data = data.to_json(orient='index')\n"
   ]
  },
  {
   "cell_type": "markdown",
   "metadata": {},
   "source": [
    "# Save json data into .json file"
   ]
  },
  {
   "cell_type": "code",
   "execution_count": 51,
   "metadata": {},
   "outputs": [],
   "source": [
    "file_path = 'data.json'\n",
    "with open(file_path, 'w') as json_file:\n",
    "    json_file.write(json_data)\n"
   ]
  },
  {
   "cell_type": "markdown",
   "metadata": {},
   "source": [
    "# Save pandas DataFrame as csv file"
   ]
  },
  {
   "cell_type": "code",
   "execution_count": 52,
   "metadata": {},
   "outputs": [],
   "source": [
    "data.to_csv('data.csv', index=False)"
   ]
  },
  {
   "cell_type": "markdown",
   "metadata": {},
   "source": [
    "#Save "
   ]
  },
  {
   "cell_type": "code",
   "execution_count": 53,
   "metadata": {},
   "outputs": [
    {
     "name": "stderr",
     "output_type": "stream",
     "text": [
      "/var/folders/mb/ws0_9zld23l09wdcn8709mgh0000gn/T/ipykernel_58774/2134139968.py:1: PerformanceWarning: \n",
      "your performance may suffer as PyTables will pickle object types that it cannot\n",
      "map directly to c-types [inferred_type->mixed,key->block1_values] [items->Index(['id', 'X', 'Y'], dtype='object')]\n",
      "\n",
      "  data.to_hdf(\"data.h5\",key='df')\n"
     ]
    }
   ],
   "source": [
    "data.to_hdf(\"data.h5\",key='df')"
   ]
  },
  {
   "cell_type": "code",
   "execution_count": null,
   "metadata": {},
   "outputs": [],
   "source": []
  }
 ],
 "metadata": {
  "kernelspec": {
   "display_name": "Python 3",
   "language": "python",
   "name": "python3"
  },
  "language_info": {
   "codemirror_mode": {
    "name": "ipython",
    "version": 3
   },
   "file_extension": ".py",
   "mimetype": "text/x-python",
   "name": "python",
   "nbconvert_exporter": "python",
   "pygments_lexer": "ipython3",
   "version": "3.7.4"
  },
  "vscode": {
   "interpreter": {
    "hash": "10df95a0161c41431acfab44ba6b5d6dbed0bbd45d2380fc1187a92055355e3d"
   }
  }
 },
 "nbformat": 4,
 "nbformat_minor": 2
}
