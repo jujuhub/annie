{
 "cells": [
  {
   "cell_type": "markdown",
   "metadata": {},
   "source": [
    "## Import modules"
   ]
  },
  {
   "cell_type": "code",
   "execution_count": 2,
   "metadata": {},
   "outputs": [],
   "source": [
    "import pandas as pd\n",
    "import torch\n",
    "import numpy as np\n",
    "from torch.utils.data import DataLoader\n",
    "from torch.utils.data import Dataset\n",
    "import torch.nn as nn\n",
    "import torch.optim as optim\n",
    "from sklearn.model_selection import train_test_split\n",
    "import matplotlib.pyplot as plt\n",
    "import time\n",
    "\n",
    "#import pickle5 as pickle"
   ]
  },
  {
   "cell_type": "markdown",
   "metadata": {},
   "source": [
    "## Load data, using half of the dataset to train"
   ]
  },
  {
   "cell_type": "code",
   "execution_count": 3,
   "metadata": {},
   "outputs": [],
   "source": [
    "data = pd.read_hdf(\"data.h5\", 'df')\n",
    "# with open(\"data.h5\", \"rb\") as fh:\n",
    "#    data = pickle.load(fh)\n",
    "# data = pd.read_csv(\"data.csv\")\n",
    "train_df, test_df = train_test_split(data, test_size=0.5)\n",
    "test_df, CV_df = train_test_split(test_df, test_size=0.5)\n",
    "# validation used to keep track of training set; monitor accuracy"
   ]
  },
  {
   "cell_type": "code",
   "execution_count": 6,
   "metadata": {},
   "outputs": [
    {
     "name": "stdout",
     "output_type": "stream",
     "text": [
      "len train_df: 604\n"
     ]
    },
    {
     "data": {
      "text/html": [
       "<div>\n",
       "<style scoped>\n",
       "    .dataframe tbody tr th:only-of-type {\n",
       "        vertical-align: middle;\n",
       "    }\n",
       "\n",
       "    .dataframe tbody tr th {\n",
       "        vertical-align: top;\n",
       "    }\n",
       "\n",
       "    .dataframe thead th {\n",
       "        text-align: right;\n",
       "    }\n",
       "</style>\n",
       "<table border=\"1\" class=\"dataframe\">\n",
       "  <thead>\n",
       "    <tr style=\"text-align: right;\">\n",
       "      <th></th>\n",
       "      <th>id</th>\n",
       "      <th>ai</th>\n",
       "      <th>eta</th>\n",
       "      <th>truetracklen</th>\n",
       "    </tr>\n",
       "  </thead>\n",
       "  <tbody>\n",
       "    <tr>\n",
       "      <th>339</th>\n",
       "      <td>p352_90</td>\n",
       "      <td>[55, 70, 85, 115, 130, 145, 160, 175, 190, 205...</td>\n",
       "      <td>[549.979, 6141.78, 2927.22, 2664.52, 1690.91, ...</td>\n",
       "      <td>279.411</td>\n",
       "    </tr>\n",
       "    <tr>\n",
       "      <th>507</th>\n",
       "      <td>p471_72</td>\n",
       "      <td>[55, 70, 85, 100, 115, 130, 145, 160, 175, 190...</td>\n",
       "      <td>[113.766, 3444.64, 80.6464, 1088.76, 155.256, ...</td>\n",
       "      <td>130.899</td>\n",
       "    </tr>\n",
       "    <tr>\n",
       "      <th>38</th>\n",
       "      <td>p126_92</td>\n",
       "      <td>[55, 70, 85, 100, 115, 130, 145, 160, 175, 190...</td>\n",
       "      <td>[523.61, 78.415, 353.359, 1070.21, 453.389, 36...</td>\n",
       "      <td>124.875</td>\n",
       "    </tr>\n",
       "    <tr>\n",
       "      <th>603</th>\n",
       "      <td>p537_31</td>\n",
       "      <td>[55, 85, 100, 115, 130, 145, 160, 175, 190, 20...</td>\n",
       "      <td>[714.337, 92.9009, 348.44, 174.965, 122.869, 1...</td>\n",
       "      <td>102.840</td>\n",
       "    </tr>\n",
       "    <tr>\n",
       "      <th>44</th>\n",
       "      <td>p130_81</td>\n",
       "      <td>[70, 85, 100, 115, 130, 145, 160, 175, 190, 20...</td>\n",
       "      <td>[4292.69, 1344.93, 1273.87, 3812.56, 2661.19, ...</td>\n",
       "      <td>258.010</td>\n",
       "    </tr>\n",
       "  </tbody>\n",
       "</table>\n",
       "</div>"
      ],
      "text/plain": [
       "          id                                                 ai  \\\n",
       "339  p352_90  [55, 70, 85, 115, 130, 145, 160, 175, 190, 205...   \n",
       "507  p471_72  [55, 70, 85, 100, 115, 130, 145, 160, 175, 190...   \n",
       "38   p126_92  [55, 70, 85, 100, 115, 130, 145, 160, 175, 190...   \n",
       "603  p537_31  [55, 85, 100, 115, 130, 145, 160, 175, 190, 20...   \n",
       "44   p130_81  [70, 85, 100, 115, 130, 145, 160, 175, 190, 20...   \n",
       "\n",
       "                                                   eta  truetracklen  \n",
       "339  [549.979, 6141.78, 2927.22, 2664.52, 1690.91, ...       279.411  \n",
       "507  [113.766, 3444.64, 80.6464, 1088.76, 155.256, ...       130.899  \n",
       "38   [523.61, 78.415, 353.359, 1070.21, 453.389, 36...       124.875  \n",
       "603  [714.337, 92.9009, 348.44, 174.965, 122.869, 1...       102.840  \n",
       "44   [4292.69, 1344.93, 1273.87, 3812.56, 2661.19, ...       258.010  "
      ]
     },
     "execution_count": 6,
     "metadata": {},
     "output_type": "execute_result"
    }
   ],
   "source": [
    "print(\"len train_df: \" + str(len(train_df)))\n",
    "train_df.head(5)"
   ]
  },
  {
   "cell_type": "code",
   "execution_count": 7,
   "metadata": {},
   "outputs": [
    {
     "name": "stdout",
     "output_type": "stream",
     "text": [
      "len test_df: 302\n"
     ]
    },
    {
     "data": {
      "text/html": [
       "<div>\n",
       "<style scoped>\n",
       "    .dataframe tbody tr th:only-of-type {\n",
       "        vertical-align: middle;\n",
       "    }\n",
       "\n",
       "    .dataframe tbody tr th {\n",
       "        vertical-align: top;\n",
       "    }\n",
       "\n",
       "    .dataframe thead th {\n",
       "        text-align: right;\n",
       "    }\n",
       "</style>\n",
       "<table border=\"1\" class=\"dataframe\">\n",
       "  <thead>\n",
       "    <tr style=\"text-align: right;\">\n",
       "      <th></th>\n",
       "      <th>id</th>\n",
       "      <th>ai</th>\n",
       "      <th>eta</th>\n",
       "      <th>truetracklen</th>\n",
       "    </tr>\n",
       "  </thead>\n",
       "  <tbody>\n",
       "    <tr>\n",
       "      <th>32</th>\n",
       "      <td>p123_32</td>\n",
       "      <td>[55, 70, 85, 115, 130, 145, 160, 175, 190, 205...</td>\n",
       "      <td>[7597.66, 2931.41, 1974.74, 2571.86, 1708.39, ...</td>\n",
       "      <td>242.811</td>\n",
       "    </tr>\n",
       "    <tr>\n",
       "      <th>1174</th>\n",
       "      <td>p971_4</td>\n",
       "      <td>[70, 85, 100, 115, 130, 145, 175, 190, 205, 22...</td>\n",
       "      <td>[357.155, 123.131, 360.478, 1152.24, 361.963, ...</td>\n",
       "      <td>110.138</td>\n",
       "    </tr>\n",
       "    <tr>\n",
       "      <th>174</th>\n",
       "      <td>p247_12</td>\n",
       "      <td>[70, 85, 115, 130, 145, 160, 175, 190, 205, 22...</td>\n",
       "      <td>[916.48, 491.517, 2365.18, 2055.48, 3480.74, 2...</td>\n",
       "      <td>181.154</td>\n",
       "    </tr>\n",
       "    <tr>\n",
       "      <th>211</th>\n",
       "      <td>p270_93</td>\n",
       "      <td>[55, 85, 100, 115, 130, 145, 160, 175, 190, 20...</td>\n",
       "      <td>[2984.55, 1725.78, 545.904, 742.709, 214.007, ...</td>\n",
       "      <td>159.250</td>\n",
       "    </tr>\n",
       "    <tr>\n",
       "      <th>906</th>\n",
       "      <td>p772_85</td>\n",
       "      <td>[70, 100, 115, 130, 145, 160, 175, 190, 205, 2...</td>\n",
       "      <td>[1992.67, 2290.85, 2715.54, 2707.41, 784.16, 2...</td>\n",
       "      <td>205.670</td>\n",
       "    </tr>\n",
       "  </tbody>\n",
       "</table>\n",
       "</div>"
      ],
      "text/plain": [
       "           id                                                 ai  \\\n",
       "32    p123_32  [55, 70, 85, 115, 130, 145, 160, 175, 190, 205...   \n",
       "1174   p971_4  [70, 85, 100, 115, 130, 145, 175, 190, 205, 22...   \n",
       "174   p247_12  [70, 85, 115, 130, 145, 160, 175, 190, 205, 22...   \n",
       "211   p270_93  [55, 85, 100, 115, 130, 145, 160, 175, 190, 20...   \n",
       "906   p772_85  [70, 100, 115, 130, 145, 160, 175, 190, 205, 2...   \n",
       "\n",
       "                                                    eta  truetracklen  \n",
       "32    [7597.66, 2931.41, 1974.74, 2571.86, 1708.39, ...       242.811  \n",
       "1174  [357.155, 123.131, 360.478, 1152.24, 361.963, ...       110.138  \n",
       "174   [916.48, 491.517, 2365.18, 2055.48, 3480.74, 2...       181.154  \n",
       "211   [2984.55, 1725.78, 545.904, 742.709, 214.007, ...       159.250  \n",
       "906   [1992.67, 2290.85, 2715.54, 2707.41, 784.16, 2...       205.670  "
      ]
     },
     "execution_count": 7,
     "metadata": {},
     "output_type": "execute_result"
    }
   ],
   "source": [
    "print(\"len test_df: \" + str(len(test_df)))\n",
    "test_df.head(5)"
   ]
  },
  {
   "cell_type": "code",
   "execution_count": 8,
   "metadata": {},
   "outputs": [
    {
     "name": "stdout",
     "output_type": "stream",
     "text": [
      "len CV_df: 302\n"
     ]
    },
    {
     "data": {
      "text/html": [
       "<div>\n",
       "<style scoped>\n",
       "    .dataframe tbody tr th:only-of-type {\n",
       "        vertical-align: middle;\n",
       "    }\n",
       "\n",
       "    .dataframe tbody tr th {\n",
       "        vertical-align: top;\n",
       "    }\n",
       "\n",
       "    .dataframe thead th {\n",
       "        text-align: right;\n",
       "    }\n",
       "</style>\n",
       "<table border=\"1\" class=\"dataframe\">\n",
       "  <thead>\n",
       "    <tr style=\"text-align: right;\">\n",
       "      <th></th>\n",
       "      <th>id</th>\n",
       "      <th>ai</th>\n",
       "      <th>eta</th>\n",
       "      <th>truetracklen</th>\n",
       "    </tr>\n",
       "  </thead>\n",
       "  <tbody>\n",
       "    <tr>\n",
       "      <th>81</th>\n",
       "      <td>p164_94</td>\n",
       "      <td>[55, 85, 100, 115, 130, 145, 160, 175, 190, 20...</td>\n",
       "      <td>[5023.45, 4350.31, 2219.58, 3430.22, 1382.1, 2...</td>\n",
       "      <td>236.936</td>\n",
       "    </tr>\n",
       "    <tr>\n",
       "      <th>375</th>\n",
       "      <td>p374_55</td>\n",
       "      <td>[70, 85, 115, 130, 145, 160, 175, 190, 205, 22...</td>\n",
       "      <td>[2466.16, 1189.26, 1778.43, 1615.0, 541.724, 4...</td>\n",
       "      <td>153.380</td>\n",
       "    </tr>\n",
       "    <tr>\n",
       "      <th>841</th>\n",
       "      <td>p720_61</td>\n",
       "      <td>[55, 85, 100, 115, 130, 145, 160, 175, 190, 20...</td>\n",
       "      <td>[2373.42, 232.338, 2157.95, 366.297, 1712.65, ...</td>\n",
       "      <td>159.559</td>\n",
       "    </tr>\n",
       "    <tr>\n",
       "      <th>342</th>\n",
       "      <td>p355_16</td>\n",
       "      <td>[70, 85, 100, 115, 130, 145, 160, 175, 205, 22...</td>\n",
       "      <td>[381.968, 663.304, 150.795, 1079.38, 1079.35, ...</td>\n",
       "      <td>121.055</td>\n",
       "    </tr>\n",
       "    <tr>\n",
       "      <th>246</th>\n",
       "      <td>p294_64</td>\n",
       "      <td>[55, 70, 85, 115, 130, 160, 175, 190, 205, 220...</td>\n",
       "      <td>[898.158, 1093.47, 2163.42, 1260.83, 1772.65, ...</td>\n",
       "      <td>177.256</td>\n",
       "    </tr>\n",
       "  </tbody>\n",
       "</table>\n",
       "</div>"
      ],
      "text/plain": [
       "          id                                                 ai  \\\n",
       "81   p164_94  [55, 85, 100, 115, 130, 145, 160, 175, 190, 20...   \n",
       "375  p374_55  [70, 85, 115, 130, 145, 160, 175, 190, 205, 22...   \n",
       "841  p720_61  [55, 85, 100, 115, 130, 145, 160, 175, 190, 20...   \n",
       "342  p355_16  [70, 85, 100, 115, 130, 145, 160, 175, 205, 22...   \n",
       "246  p294_64  [55, 70, 85, 115, 130, 160, 175, 190, 205, 220...   \n",
       "\n",
       "                                                   eta  truetracklen  \n",
       "81   [5023.45, 4350.31, 2219.58, 3430.22, 1382.1, 2...       236.936  \n",
       "375  [2466.16, 1189.26, 1778.43, 1615.0, 541.724, 4...       153.380  \n",
       "841  [2373.42, 232.338, 2157.95, 366.297, 1712.65, ...       159.559  \n",
       "342  [381.968, 663.304, 150.795, 1079.38, 1079.35, ...       121.055  \n",
       "246  [898.158, 1093.47, 2163.42, 1260.83, 1772.65, ...       177.256  "
      ]
     },
     "execution_count": 8,
     "metadata": {},
     "output_type": "execute_result"
    }
   ],
   "source": [
    "print(\"len CV_df: \" + str(len(CV_df)))\n",
    "CV_df.head(5)"
   ]
  },
  {
   "cell_type": "code",
   "execution_count": 4,
   "metadata": {},
   "outputs": [
    {
     "name": "stdout",
     "output_type": "stream",
     "text": [
      "Empty DataFrame\n",
      "Columns: [id, ai, eta, truetracklen]\n",
      "Index: []\n"
     ]
    }
   ],
   "source": [
    "print(data[data['truetracklen'] < 0.])"
   ]
  },
  {
   "cell_type": "markdown",
   "metadata": {},
   "source": [
    "## Define MyDataset class"
   ]
  },
  {
   "cell_type": "code",
   "execution_count": 9,
   "metadata": {},
   "outputs": [],
   "source": [
    "class MyDataset(Dataset):\n",
    "    def __init__(self, dataframe):\n",
    "        self.data = dataframe\n",
    "\n",
    "    def __len__(self):\n",
    "        return len(self.data)\n",
    "\n",
    "    def __getitem__(self, idx):\n",
    "        evid = self.data.iloc[idx,0]    #added to include evid in output file\n",
    "        features = torch.tensor(self.data.iloc[idx, 1:-1], dtype=torch.float32)\n",
    "        features = features.t()\n",
    "        target = torch.tensor(self.data.iloc[idx, -1], dtype=torch.float32)\n",
    "        return evid, features, target   #added evid as return value\n"
   ]
  },
  {
   "cell_type": "code",
   "execution_count": 10,
   "metadata": {},
   "outputs": [],
   "source": [
    "batch_size = 1 # Adjust batch size as needed\n",
    "# sequence_length = 3  # Adjust sequence length as needed\n",
    "shuffle = True  # Shuffle the data during training (recommended)\n",
    "dataS = MyDataset(data)\n",
    "train = MyDataset(train_df)\n",
    "test = MyDataset(test_df)\n",
    "CVS = MyDataset(CV_df)\n",
    "trainloader = DataLoader(train, batch_size=1, shuffle=shuffle) #how much data to train per epoch\n",
    "testloader = DataLoader(test)\n",
    "dataloader = DataLoader(dataS, batch_size=1, shuffle=shuffle)\n",
    "CVloader = DataLoader(CVS)"
   ]
  },
  {
   "cell_type": "code",
   "execution_count": 22,
   "metadata": {},
   "outputs": [
    {
     "name": "stdout",
     "output_type": "stream",
     "text": [
      "<torch.utils.data.dataloader.DataLoader object at 0x13e835050>\n"
     ]
    }
   ],
   "source": [
    "print(dataloader)"
   ]
  },
  {
   "cell_type": "markdown",
   "metadata": {},
   "source": [
    "## Define ManyToOneRNN class"
   ]
  },
  {
   "cell_type": "code",
   "execution_count": 11,
   "metadata": {},
   "outputs": [],
   "source": [
    "class ManyToOneRNN(nn.Module):\n",
    "    def __init__(self, input_size, hidden_size, num_layers, output_size):\n",
    "        super(ManyToOneRNN, self).__init__()\n",
    "        self.hidden_size = hidden_size\n",
    "        self.num_layers = num_layers\n",
    "        self.rnn = nn.RNN(input_size, hidden_size, num_layers, batch_first=True,nonlinearity='relu')\n",
    "        self.fc = nn.Linear(hidden_size, output_size)\n",
    "\n",
    "    def forward(self, x):\n",
    "        # Initialize hidden state with zeros\n",
    "        h0 = torch.zeros(self.num_layers, x.size(0), self.hidden_size).to(x.device)\n",
    "        # Forward propagate the RNN\n",
    "        out, _ = self.rnn(x,h0)\n",
    "\n",
    "        # Decode the hidden state of the last time step\n",
    "        out = self.fc(out[:, -1, :])\n",
    "        return out"
   ]
  },
  {
   "cell_type": "code",
   "execution_count": 15,
   "metadata": {},
   "outputs": [],
   "source": [
    "cost_list = []\n",
    "CVcost_list = []\n",
    "input_size = 2\n",
    "hidden_size = 4\n",
    "num_layers = 1\n",
    "output_size = 1\n",
    "learning_rate = 0.001   #can tune this for better model\n",
    "num_epochs = 1000   #default:10000\n",
    "\n",
    "model = ManyToOneRNN(input_size, hidden_size, num_layers, output_size)\n",
    "criterion = nn.MSELoss()\n",
    "optimizer = optim.Adam(model.parameters(), lr=learning_rate)\n",
    "\n",
    "N = 100    #for printing progress"
   ]
  },
  {
   "cell_type": "code",
   "execution_count": 16,
   "metadata": {},
   "outputs": [],
   "source": [
    "def train():\n",
    "    model.train()\n",
    "\n",
    "    for epoch in range(num_epochs):\n",
    "        COST=0\n",
    "        CVCost = 0\n",
    "        i = 0\n",
    "        for ev,dat,target in trainloader:  # Iterate in batches over the training dataset.; EDIT: added ev\n",
    "            out = model(dat)  # Perform a single forward pass.\n",
    "            loss = criterion(out, target)  # Compute the loss.\n",
    "            loss.backward()  # Derive gradients.\n",
    "            optimizer.step()  # Update parameters based on gradients.\n",
    "            optimizer.zero_grad()  # Clear gradients.\n",
    "            COST += loss.data\n",
    "            i += 1\n",
    "            # if epoch % 100 == 0 and i ==1 :\n",
    "                # print(\"loss is {}\".format(loss.data))\n",
    "                # print(\"target value is {}\".format(target))\n",
    "                # print(\"out is {}\".format(out))\n",
    "\n",
    "        cost_list.append(COST)\n",
    "\n",
    "        #perform a prediction on the validation  data\n",
    "        for CVID,CVD,CVT in CVloader:\n",
    "\n",
    "            with torch.no_grad():\n",
    "               CVout = model(CVD)\n",
    "            loss = criterion(CVout, CVT)\n",
    "\n",
    "            CVCost += loss\n",
    "\n",
    "        CVcost_list.append(CVCost)\n",
    "\n",
    "        if epoch%N == 0:\n",
    "            print(\"epoch number:{}\".format(epoch))\n",
    "            print(\"validation MSE is {}\".format(COST))\n",
    "            print(\"train MSE is {}\".format(CVCost))\n"
   ]
  },
  {
   "cell_type": "markdown",
   "metadata": {},
   "source": [
    "## Train model"
   ]
  },
  {
   "cell_type": "code",
   "execution_count": 17,
   "metadata": {},
   "outputs": [
    {
     "name": "stdout",
     "output_type": "stream",
     "text": [
      "start time=1712530487.231816\n",
      "epoch number:0\n",
      "validation MSE is 4674168.5\n",
      "train MSE is 721203.625\n",
      "epoch number:100\n",
      "validation MSE is 220126.5625\n",
      "train MSE is 169800.484375\n",
      "epoch number:200\n",
      "validation MSE is 193258.09375\n",
      "train MSE is 140528.84375\n",
      "epoch number:300\n",
      "validation MSE is 165590.21875\n",
      "train MSE is 125440.28125\n",
      "epoch number:400\n",
      "validation MSE is 169457.296875\n",
      "train MSE is 123987.2578125\n",
      "epoch number:500\n",
      "validation MSE is 163948.609375\n",
      "train MSE is 130581.4296875\n",
      "epoch number:600\n",
      "validation MSE is 173583.328125\n",
      "train MSE is 112238.53125\n",
      "epoch number:700\n",
      "validation MSE is 157435.203125\n",
      "train MSE is 103951.34375\n",
      "epoch number:800\n",
      "validation MSE is 142474.953125\n",
      "train MSE is 138760.046875\n",
      "epoch number:900\n",
      "validation MSE is 142750.671875\n",
      "train MSE is 100356.3203125\n",
      "2341.0533590316772\n"
     ]
    }
   ],
   "source": [
    "tstart=time.time()\n",
    "print(\"start time={}\".format(tstart))\n",
    "train()\n",
    "torch.save(model, 'model.pth')\n",
    "\n",
    "print((time.time()-tstart))"
   ]
  },
  {
   "cell_type": "markdown",
   "metadata": {},
   "source": [
    "### Plot the loss and accuracy"
   ]
  },
  {
   "cell_type": "code",
   "execution_count": 18,
   "metadata": {},
   "outputs": [
    {
     "data": {
      "text/plain": [
       "<matplotlib.legend.Legend at 0x13fb20f90>"
      ]
     },
     "execution_count": 18,
     "metadata": {},
     "output_type": "execute_result"
    },
    {
     "data": {
      "image/png": "[encoded data removed]",
      "text/plain": [
       "<Figure size 432x288 with 1 Axes>"
      ]
     },
     "metadata": {
      "needs_background": "light"
     },
     "output_type": "display_data"
    }
   ],
   "source": [
    "# Plot the loss and accuracy\n",
    "\n",
    "fig, ax1 = plt.subplots()\n",
    "color = 'tab:red'\n",
    "ax1.plot(cost_list[200::100], color=color,label=\"Train\")\n",
    "ax1.plot(CVcost_list[200::100], color='tab:blue',label=\"Validation\")\n",
    "ax1.set_xlabel('epoch', color=color)\n",
    "ax1.set_ylabel('Cost', color=color)\n",
    "ax1.tick_params(axis='y', color=color)\n",
    "ax1.legend()\n",
    "\n",
    "# want red and blue to be close and cost to be low"
   ]
  },
  {
   "cell_type": "code",
   "execution_count": 19,
   "metadata": {},
   "outputs": [],
   "source": [
    "def test(loader):\n",
    "    model.eval()\n",
    "\n",
    "    #open output file for fitted track length\n",
    "    out_f = open(\"fitbyeye_wcsim_RNN.txt\", \"a\")\n",
    "    \n",
    "    diff_list = []\n",
    "    for evid,data,target in loader:  # Iterate in batches over the training/test dataset.\n",
    "        with torch.no_grad():\n",
    "            out = model(data)   # just need this for data\n",
    "            diff = out - target  # Use the class with highest probability.\n",
    "            #print(evid[0], out.data.numpy()[0][0], target.data.numpy()[0])   #evid, fit, truelen\n",
    "            #print(diff)\n",
    "            out_f.write(str(evid[0]) + \",\" + str(out.data.numpy()[0][0]) + \"\\n\")\n",
    "            diff_list.append(diff.data.numpy()[0][0])  # Check against ground-truth labels.\n",
    "            # diff_list.append(diff.data.numpy())  # Check against ground-truth labels.\n",
    "    out_f.close()\n",
    "    return diff_list  # Derive ratio of correct predictions.\n"
   ]
  },
  {
   "cell_type": "code",
   "execution_count": 20,
   "metadata": {
    "scrolled": false
   },
   "outputs": [
    {
     "data": {
      "image/png": "[encoded data removed]",
      "text/plain": [
       "<Figure size 432x288 with 1 Axes>"
      ]
     },
     "metadata": {
      "needs_background": "light"
     },
     "output_type": "display_data"
    }
   ],
   "source": [
    "diff_list = test(dataloader)\n",
    "\n",
    "\n",
    "\n",
    "plt.hist(diff_list)\n",
    "\n",
    "mean = np.mean(diff_list)\n",
    "std = np.std(diff_list)\n",
    "\n",
    "# custom_labels = ['Mean is {}'.format(mean), 'Std is {}'.format(std)]\n",
    "\n",
    "# Add a legend with custom labels\n",
    "plt.text(20, 40, f'Mean: {mean:.2f}', fontsize=12, color='red')\n",
    "plt.text(20, 35, f'Std: {std:.2f}', fontsize=12, color='green')\n",
    "\n",
    "\n",
    "plt.xlabel(\"y - yhat\")\n",
    "plt.ylabel(\"Number of Event\")\n",
    "plt.title(\"RNN Muon Vetex Reconstruction Performance\")\n",
    "# plt.legend(custom_labels)\n",
    "plt.savefig(\"RNN.png\")"
   ]
  },
  {
   "cell_type": "code",
   "execution_count": 21,
   "metadata": {},
   "outputs": [
    {
     "name": "stdout",
     "output_type": "stream",
     "text": [
      "mean:  -4.6632338\n",
      "std: 16.087687\n"
     ]
    }
   ],
   "source": [
    "print(\"mean: \",mean)\n",
    "print(\"std: \" + str(std))"
   ]
  },
  {
   "cell_type": "markdown",
   "metadata": {},
   "source": [
    "## Save the model"
   ]
  },
  {
   "cell_type": "code",
   "execution_count": null,
   "metadata": {},
   "outputs": [],
   "source": [
    "#torch.save or model.save\n",
    "#load model in another script and just use"
   ]
  }
 ],
 "metadata": {
  "kernelspec": {
   "display_name": "Python 3",
   "language": "python",
   "name": "python3"
  },
  "language_info": {
   "codemirror_mode": {
    "name": "ipython",
    "version": 3
   },
   "file_extension": ".py",
   "mimetype": "text/x-python",
   "name": "python",
   "nbconvert_exporter": "python",
   "pygments_lexer": "ipython3",
   "version": "3.7.4"
  },
  "vscode": {
   "interpreter": {
    "hash": "10df95a0161c41431acfab44ba6b5d6dbed0bbd45d2380fc1187a92055355e3d"
   }
  }
 },
 "nbformat": 4,
 "nbformat_minor": 2
}
