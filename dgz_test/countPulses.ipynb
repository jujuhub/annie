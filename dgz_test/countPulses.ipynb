{
 "metadata": {
  "name": "",
  "signature": "sha256:7c57b486973b3753e22f445e0aecfdf90e1c063caa0c8b05401462e9cdefa84f"
 },
 "nbformat": 3,
 "nbformat_minor": 0,
 "worksheets": [
  {
   "cells": [
    {
     "cell_type": "code",
     "collapsed": false,
     "input": [
      "import numpy as np\n",
      "import matplotlib.pyplot as plt"
     ],
     "language": "python",
     "metadata": {},
     "outputs": [],
     "prompt_number": 2
    },
    {
     "cell_type": "code",
     "collapsed": false,
     "input": [
      "FILE = \"wave0-part1.txt\"\n",
      "HEADER = 7\n",
      "THRESHOLD = 14070 # about 0.00247V\n",
      "\n",
      "with open(FILE) as f:\n",
      "    data = [line.split(' ')[-1] for line in f]"
     ],
     "language": "python",
     "metadata": {},
     "outputs": [],
     "prompt_number": 3
    },
    {
     "cell_type": "code",
     "collapsed": false,
     "input": [
      "recordLength = int(data[0])\n",
      "frameCounter = 0\n",
      "\n",
      "for i in range(len(data)/(recordLength+HEADER)):\n",
      "    holderArray = []\n",
      "    \n",
      "    for val in data[(i*(recordLength+HEADER) + HEADER):(i+1)*(recordLength+HEADER)]:\n",
      "        holderArray.append(int(val))\n",
      "    \n",
      "    plt.title(\"mean=\" + str(np.mean(np.array(holderArray))) + \", min=\" + str(min(holderArray)) + \n",
      "              \", max=\" + str(max(holderArray)))\n",
      "    plt.plot(holderArray)\n",
      "    plt.show()\n",
      "    \n",
      "    frameCounter += 1\n",
      "\n",
      "print(frameCounter)"
     ],
     "language": "python",
     "metadata": {},
     "outputs": [
      {
       "output_type": "stream",
       "stream": "stdout",
       "text": [
        "10\n"
       ]
      }
     ],
     "prompt_number": 6
    },
    {
     "cell_type": "code",
     "collapsed": false,
     "input": [
      "recordLength = int(data[0])\n",
      "frameCounter = 0\n",
      "nPulses = 0\n",
      "\n",
      "for i in range(len(data)/(recordLength+HEADER)):\n",
      "    # initialize holderArray\n",
      "    holderArray = []\n",
      "    \n",
      "    # convert to int and store in temp array\n",
      "    for val in data[i*(recordLength + HEADER) + HEADER:(i+1)*(recordLength + HEADER)-1]:\n",
      "        holderArray.append(int(val))\n",
      "    \n",
      "    peak = min(holderArray)\n",
      "    if peak < THRESHOLD:\n",
      "        nPulses += 1\n",
      "    \n",
      "    frameCounter += 1\n",
      "    print(\"i = \" + str(i))\n",
      "\n",
      "print(\"number of frames: \" + str(frameCounter))\n",
      "print(\"number of frames with pulses: \" + str(nPulses))"
     ],
     "language": "python",
     "metadata": {},
     "outputs": [
      {
       "output_type": "stream",
       "stream": "stdout",
       "text": [
        "i = 0\n",
        "i = 1\n",
        "i = 2\n",
        "i = 3\n",
        "i = 4\n",
        "i = 5\n",
        "i = 6\n",
        "i = 7\n",
        "i = 8\n",
        "i = 9\n",
        "number of frames: 10\n",
        "number of frames with pulses: 7\n"
       ]
      }
     ],
     "prompt_number": 8
    }
   ],
   "metadata": {}
  }
 ]
}